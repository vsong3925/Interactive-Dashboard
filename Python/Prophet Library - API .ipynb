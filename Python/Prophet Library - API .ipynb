{
 "cells": [
  {
   "cell_type": "code",
   "execution_count": 1,
   "metadata": {},
   "outputs": [],
   "source": [
    "import pandas as pd\n",
    "from config import api_key\n",
    "import matplotlib.pyplot as plt\n",
    "import requests"
   ]
  },
  {
   "cell_type": "code",
   "execution_count": 2,
   "metadata": {},
   "outputs": [],
   "source": [
    "ticker = \"AMZN\"\n",
    "start_date = \"2000-01-01\""
   ]
  },
  {
   "cell_type": "code",
   "execution_count": 3,
   "metadata": {},
   "outputs": [],
   "source": [
    "url = f'https://www.quandl.com/api/v3/datasets/EOD/{ticker}?start_date={start_date}&api_key={api_key}'\n",
    "#url = f'https://www.quandl.com/api/v3/datasets/EOD/{ticker}&api_key={api_key}'"
   ]
  },
  {
   "cell_type": "code",
   "execution_count": 4,
   "metadata": {},
   "outputs": [],
   "source": [
    "response = requests.get(url).json()\n",
    "#response"
   ]
  },
  {
   "cell_type": "code",
   "execution_count": 5,
   "metadata": {},
   "outputs": [],
   "source": [
    "stock_data = response['dataset']['data']"
   ]
  },
  {
   "cell_type": "code",
   "execution_count": 6,
   "metadata": {},
   "outputs": [],
   "source": [
    "date = []\n",
    "close = []\n",
    "\n",
    "for d in stock_data:\n",
    "    date.append(d[0])\n",
    "    close.append(d[4])"
   ]
  },
  {
   "cell_type": "code",
   "execution_count": 7,
   "metadata": {},
   "outputs": [
    {
     "data": {
      "text/html": [
       "<div>\n",
       "<style scoped>\n",
       "    .dataframe tbody tr th:only-of-type {\n",
       "        vertical-align: middle;\n",
       "    }\n",
       "\n",
       "    .dataframe tbody tr th {\n",
       "        vertical-align: top;\n",
       "    }\n",
       "\n",
       "    .dataframe thead th {\n",
       "        text-align: right;\n",
       "    }\n",
       "</style>\n",
       "<table border=\"1\" class=\"dataframe\">\n",
       "  <thead>\n",
       "    <tr style=\"text-align: right;\">\n",
       "      <th></th>\n",
       "      <th>Date</th>\n",
       "      <th>Close</th>\n",
       "    </tr>\n",
       "  </thead>\n",
       "  <tbody>\n",
       "    <tr>\n",
       "      <th>0</th>\n",
       "      <td>2021-03-09</td>\n",
       "      <td>3062.85</td>\n",
       "    </tr>\n",
       "    <tr>\n",
       "      <th>1</th>\n",
       "      <td>2021-03-08</td>\n",
       "      <td>2951.95</td>\n",
       "    </tr>\n",
       "    <tr>\n",
       "      <th>2</th>\n",
       "      <td>2021-03-05</td>\n",
       "      <td>3000.46</td>\n",
       "    </tr>\n",
       "    <tr>\n",
       "      <th>3</th>\n",
       "      <td>2021-03-04</td>\n",
       "      <td>2977.57</td>\n",
       "    </tr>\n",
       "    <tr>\n",
       "      <th>4</th>\n",
       "      <td>2021-03-03</td>\n",
       "      <td>3005.00</td>\n",
       "    </tr>\n",
       "  </tbody>\n",
       "</table>\n",
       "</div>"
      ],
      "text/plain": [
       "         Date    Close\n",
       "0  2021-03-09  3062.85\n",
       "1  2021-03-08  2951.95\n",
       "2  2021-03-05  3000.46\n",
       "3  2021-03-04  2977.57\n",
       "4  2021-03-03  3005.00"
      ]
     },
     "execution_count": 7,
     "metadata": {},
     "output_type": "execute_result"
    }
   ],
   "source": [
    "data_dict = {'Date': date, 'Close': close}\n",
    "\n",
    "data_df = pd.DataFrame(data_dict)\n",
    "data_df.head()"
   ]
  },
  {
   "cell_type": "code",
   "execution_count": 8,
   "metadata": {},
   "outputs": [
    {
     "data": {
      "text/html": [
       "<div>\n",
       "<style scoped>\n",
       "    .dataframe tbody tr th:only-of-type {\n",
       "        vertical-align: middle;\n",
       "    }\n",
       "\n",
       "    .dataframe tbody tr th {\n",
       "        vertical-align: top;\n",
       "    }\n",
       "\n",
       "    .dataframe thead th {\n",
       "        text-align: right;\n",
       "    }\n",
       "</style>\n",
       "<table border=\"1\" class=\"dataframe\">\n",
       "  <thead>\n",
       "    <tr style=\"text-align: right;\">\n",
       "      <th></th>\n",
       "      <th>Date</th>\n",
       "      <th>Close</th>\n",
       "    </tr>\n",
       "  </thead>\n",
       "  <tbody>\n",
       "    <tr>\n",
       "      <th>0</th>\n",
       "      <td>2000-01-03</td>\n",
       "      <td>89.38</td>\n",
       "    </tr>\n",
       "    <tr>\n",
       "      <th>1</th>\n",
       "      <td>2000-01-04</td>\n",
       "      <td>81.94</td>\n",
       "    </tr>\n",
       "    <tr>\n",
       "      <th>2</th>\n",
       "      <td>2000-01-05</td>\n",
       "      <td>71.75</td>\n",
       "    </tr>\n",
       "    <tr>\n",
       "      <th>3</th>\n",
       "      <td>2000-01-06</td>\n",
       "      <td>65.56</td>\n",
       "    </tr>\n",
       "    <tr>\n",
       "      <th>4</th>\n",
       "      <td>2000-01-07</td>\n",
       "      <td>69.56</td>\n",
       "    </tr>\n",
       "  </tbody>\n",
       "</table>\n",
       "</div>"
      ],
      "text/plain": [
       "         Date  Close\n",
       "0  2000-01-03  89.38\n",
       "1  2000-01-04  81.94\n",
       "2  2000-01-05  71.75\n",
       "3  2000-01-06  65.56\n",
       "4  2000-01-07  69.56"
      ]
     },
     "execution_count": 8,
     "metadata": {},
     "output_type": "execute_result"
    }
   ],
   "source": [
    "data = data_df.sort_values(by='Date', ascending=True).reset_index().drop(columns=['index'])\n",
    "data.head()"
   ]
  },
  {
   "cell_type": "code",
   "execution_count": 9,
   "metadata": {},
   "outputs": [
    {
     "data": {
      "text/plain": [
       "<matplotlib.axes._subplots.AxesSubplot at 0x7f84dd501c70>"
      ]
     },
     "execution_count": 9,
     "metadata": {},
     "output_type": "execute_result"
    },
    {
     "data": {
      "image/png": "[encoded data removed]",
      "text/plain": [
       "<Figure size 432x288 with 1 Axes>"
      ]
     },
     "metadata": {
      "needs_background": "light"
     },
     "output_type": "display_data"
    }
   ],
   "source": [
    "#plot close price\n",
    "data['Close'].plot()"
   ]
  },
  {
   "cell_type": "code",
   "execution_count": 10,
   "metadata": {},
   "outputs": [
    {
     "data": {
      "image/png": "[encoded data removed]",
      "text/plain": [
       "<Figure size 720x432 with 1 Axes>"
      ]
     },
     "metadata": {
      "needs_background": "light"
     },
     "output_type": "display_data"
    }
   ],
   "source": [
    "plt.figure(figsize=(10,6))\n",
    "plt.grid(True)\n",
    "plt.xlabel('Dates')\n",
    "plt.ylabel('Close Prices')\n",
    "plt.plot(data['Close'])\n",
    "plt.title(f'{ticker} closing price')\n",
    "plt.show()"
   ]
  },
  {
   "cell_type": "markdown",
   "metadata": {},
   "source": [
    "## build the predictive model"
   ]
  },
  {
   "cell_type": "code",
   "execution_count": 11,
   "metadata": {},
   "outputs": [
    {
     "data": {
      "text/html": [
       "<div>\n",
       "<style scoped>\n",
       "    .dataframe tbody tr th:only-of-type {\n",
       "        vertical-align: middle;\n",
       "    }\n",
       "\n",
       "    .dataframe tbody tr th {\n",
       "        vertical-align: top;\n",
       "    }\n",
       "\n",
       "    .dataframe thead th {\n",
       "        text-align: right;\n",
       "    }\n",
       "</style>\n",
       "<table border=\"1\" class=\"dataframe\">\n",
       "  <thead>\n",
       "    <tr style=\"text-align: right;\">\n",
       "      <th></th>\n",
       "      <th>ds</th>\n",
       "      <th>y</th>\n",
       "    </tr>\n",
       "  </thead>\n",
       "  <tbody>\n",
       "    <tr>\n",
       "      <th>0</th>\n",
       "      <td>2000-01-03</td>\n",
       "      <td>89.38</td>\n",
       "    </tr>\n",
       "    <tr>\n",
       "      <th>1</th>\n",
       "      <td>2000-01-04</td>\n",
       "      <td>81.94</td>\n",
       "    </tr>\n",
       "    <tr>\n",
       "      <th>2</th>\n",
       "      <td>2000-01-05</td>\n",
       "      <td>71.75</td>\n",
       "    </tr>\n",
       "    <tr>\n",
       "      <th>3</th>\n",
       "      <td>2000-01-06</td>\n",
       "      <td>65.56</td>\n",
       "    </tr>\n",
       "    <tr>\n",
       "      <th>4</th>\n",
       "      <td>2000-01-07</td>\n",
       "      <td>69.56</td>\n",
       "    </tr>\n",
       "  </tbody>\n",
       "</table>\n",
       "</div>"
      ],
      "text/plain": [
       "           ds      y\n",
       "0  2000-01-03  89.38\n",
       "1  2000-01-04  81.94\n",
       "2  2000-01-05  71.75\n",
       "3  2000-01-06  65.56\n",
       "4  2000-01-07  69.56"
      ]
     },
     "execution_count": 11,
     "metadata": {},
     "output_type": "execute_result"
    }
   ],
   "source": [
    "data = data[['Date', 'Close']]\n",
    "\n",
    "data = data.rename(columns = {\"Date\":\"ds\",\"Close\":\"y\"})\n",
    "data.head()"
   ]
  },
  {
   "cell_type": "code",
   "execution_count": 13,
   "metadata": {},
   "outputs": [],
   "source": [
    "from fbprophet import Prophet"
   ]
  },
  {
   "cell_type": "code",
   "execution_count": 14,
   "metadata": {},
   "outputs": [
    {
     "name": "stderr",
     "output_type": "stream",
     "text": [
      "INFO:numexpr.utils:NumExpr defaulting to 8 threads.\n"
     ]
    },
    {
     "data": {
      "text/plain": [
       "<fbprophet.forecaster.Prophet at 0x7f84dd766550>"
      ]
     },
     "execution_count": 14,
     "metadata": {},
     "output_type": "execute_result"
    }
   ],
   "source": [
    "m = Prophet(daily_seasonality = True) # the Prophet class (model)\n",
    "m.fit(data)"
   ]
  },
  {
   "cell_type": "code",
   "execution_count": 22,
   "metadata": {},
   "outputs": [
    {
     "data": {
      "text/html": [
       "<div>\n",
       "<style scoped>\n",
       "    .dataframe tbody tr th:only-of-type {\n",
       "        vertical-align: middle;\n",
       "    }\n",
       "\n",
       "    .dataframe tbody tr th {\n",
       "        vertical-align: top;\n",
       "    }\n",
       "\n",
       "    .dataframe thead th {\n",
       "        text-align: right;\n",
       "    }\n",
       "</style>\n",
       "<table border=\"1\" class=\"dataframe\">\n",
       "  <thead>\n",
       "    <tr style=\"text-align: right;\">\n",
       "      <th></th>\n",
       "      <th>ds</th>\n",
       "      <th>trend</th>\n",
       "      <th>yhat_lower</th>\n",
       "      <th>yhat_upper</th>\n",
       "      <th>trend_lower</th>\n",
       "      <th>trend_upper</th>\n",
       "      <th>additive_terms</th>\n",
       "      <th>additive_terms_lower</th>\n",
       "      <th>additive_terms_upper</th>\n",
       "      <th>daily</th>\n",
       "      <th>...</th>\n",
       "      <th>weekly</th>\n",
       "      <th>weekly_lower</th>\n",
       "      <th>weekly_upper</th>\n",
       "      <th>yearly</th>\n",
       "      <th>yearly_lower</th>\n",
       "      <th>yearly_upper</th>\n",
       "      <th>multiplicative_terms</th>\n",
       "      <th>multiplicative_terms_lower</th>\n",
       "      <th>multiplicative_terms_upper</th>\n",
       "      <th>yhat</th>\n",
       "    </tr>\n",
       "  </thead>\n",
       "  <tbody>\n",
       "    <tr>\n",
       "      <th>0</th>\n",
       "      <td>2000-01-03</td>\n",
       "      <td>82.806590</td>\n",
       "      <td>-130.206284</td>\n",
       "      <td>207.700059</td>\n",
       "      <td>82.806590</td>\n",
       "      <td>82.806590</td>\n",
       "      <td>-43.133254</td>\n",
       "      <td>-43.133254</td>\n",
       "      <td>-43.133254</td>\n",
       "      <td>-25.752456</td>\n",
       "      <td>...</td>\n",
       "      <td>-2.178505</td>\n",
       "      <td>-2.178505</td>\n",
       "      <td>-2.178505</td>\n",
       "      <td>-15.202293</td>\n",
       "      <td>-15.202293</td>\n",
       "      <td>-15.202293</td>\n",
       "      <td>0.0</td>\n",
       "      <td>0.0</td>\n",
       "      <td>0.0</td>\n",
       "      <td>39.673336</td>\n",
       "    </tr>\n",
       "    <tr>\n",
       "      <th>1</th>\n",
       "      <td>2000-01-04</td>\n",
       "      <td>82.732019</td>\n",
       "      <td>-120.404251</td>\n",
       "      <td>212.137680</td>\n",
       "      <td>82.732019</td>\n",
       "      <td>82.732019</td>\n",
       "      <td>-41.105773</td>\n",
       "      <td>-41.105773</td>\n",
       "      <td>-41.105773</td>\n",
       "      <td>-25.752456</td>\n",
       "      <td>...</td>\n",
       "      <td>-0.440645</td>\n",
       "      <td>-0.440645</td>\n",
       "      <td>-0.440645</td>\n",
       "      <td>-14.912672</td>\n",
       "      <td>-14.912672</td>\n",
       "      <td>-14.912672</td>\n",
       "      <td>0.0</td>\n",
       "      <td>0.0</td>\n",
       "      <td>0.0</td>\n",
       "      <td>41.626246</td>\n",
       "    </tr>\n",
       "    <tr>\n",
       "      <th>2</th>\n",
       "      <td>2000-01-05</td>\n",
       "      <td>82.657448</td>\n",
       "      <td>-141.533300</td>\n",
       "      <td>200.495431</td>\n",
       "      <td>82.657448</td>\n",
       "      <td>82.657448</td>\n",
       "      <td>-40.379108</td>\n",
       "      <td>-40.379108</td>\n",
       "      <td>-40.379108</td>\n",
       "      <td>-25.752456</td>\n",
       "      <td>...</td>\n",
       "      <td>-0.023158</td>\n",
       "      <td>-0.023158</td>\n",
       "      <td>-0.023158</td>\n",
       "      <td>-14.603494</td>\n",
       "      <td>-14.603494</td>\n",
       "      <td>-14.603494</td>\n",
       "      <td>0.0</td>\n",
       "      <td>0.0</td>\n",
       "      <td>0.0</td>\n",
       "      <td>42.278340</td>\n",
       "    </tr>\n",
       "    <tr>\n",
       "      <th>3</th>\n",
       "      <td>2000-01-06</td>\n",
       "      <td>82.582877</td>\n",
       "      <td>-123.459242</td>\n",
       "      <td>204.342632</td>\n",
       "      <td>82.582877</td>\n",
       "      <td>82.582877</td>\n",
       "      <td>-40.638151</td>\n",
       "      <td>-40.638151</td>\n",
       "      <td>-40.638151</td>\n",
       "      <td>-25.752456</td>\n",
       "      <td>...</td>\n",
       "      <td>-0.605947</td>\n",
       "      <td>-0.605947</td>\n",
       "      <td>-0.605947</td>\n",
       "      <td>-14.279748</td>\n",
       "      <td>-14.279748</td>\n",
       "      <td>-14.279748</td>\n",
       "      <td>0.0</td>\n",
       "      <td>0.0</td>\n",
       "      <td>0.0</td>\n",
       "      <td>41.944726</td>\n",
       "    </tr>\n",
       "    <tr>\n",
       "      <th>4</th>\n",
       "      <td>2000-01-07</td>\n",
       "      <td>82.508306</td>\n",
       "      <td>-122.012457</td>\n",
       "      <td>205.999727</td>\n",
       "      <td>82.508306</td>\n",
       "      <td>82.508306</td>\n",
       "      <td>-42.888398</td>\n",
       "      <td>-42.888398</td>\n",
       "      <td>-42.888398</td>\n",
       "      <td>-25.752456</td>\n",
       "      <td>...</td>\n",
       "      <td>-3.189858</td>\n",
       "      <td>-3.189858</td>\n",
       "      <td>-3.189858</td>\n",
       "      <td>-13.946083</td>\n",
       "      <td>-13.946083</td>\n",
       "      <td>-13.946083</td>\n",
       "      <td>0.0</td>\n",
       "      <td>0.0</td>\n",
       "      <td>0.0</td>\n",
       "      <td>39.619908</td>\n",
       "    </tr>\n",
       "  </tbody>\n",
       "</table>\n",
       "<p>5 rows × 22 columns</p>\n",
       "</div>"
      ],
      "text/plain": [
       "          ds      trend  yhat_lower  yhat_upper  trend_lower  trend_upper  \\\n",
       "0 2000-01-03  82.806590 -130.206284  207.700059    82.806590    82.806590   \n",
       "1 2000-01-04  82.732019 -120.404251  212.137680    82.732019    82.732019   \n",
       "2 2000-01-05  82.657448 -141.533300  200.495431    82.657448    82.657448   \n",
       "3 2000-01-06  82.582877 -123.459242  204.342632    82.582877    82.582877   \n",
       "4 2000-01-07  82.508306 -122.012457  205.999727    82.508306    82.508306   \n",
       "\n",
       "   additive_terms  additive_terms_lower  additive_terms_upper      daily  ...  \\\n",
       "0      -43.133254            -43.133254            -43.133254 -25.752456  ...   \n",
       "1      -41.105773            -41.105773            -41.105773 -25.752456  ...   \n",
       "2      -40.379108            -40.379108            -40.379108 -25.752456  ...   \n",
       "3      -40.638151            -40.638151            -40.638151 -25.752456  ...   \n",
       "4      -42.888398            -42.888398            -42.888398 -25.752456  ...   \n",
       "\n",
       "     weekly  weekly_lower  weekly_upper     yearly  yearly_lower  \\\n",
       "0 -2.178505     -2.178505     -2.178505 -15.202293    -15.202293   \n",
       "1 -0.440645     -0.440645     -0.440645 -14.912672    -14.912672   \n",
       "2 -0.023158     -0.023158     -0.023158 -14.603494    -14.603494   \n",
       "3 -0.605947     -0.605947     -0.605947 -14.279748    -14.279748   \n",
       "4 -3.189858     -3.189858     -3.189858 -13.946083    -13.946083   \n",
       "\n",
       "   yearly_upper  multiplicative_terms  multiplicative_terms_lower  \\\n",
       "0    -15.202293                   0.0                         0.0   \n",
       "1    -14.912672                   0.0                         0.0   \n",
       "2    -14.603494                   0.0                         0.0   \n",
       "3    -14.279748                   0.0                         0.0   \n",
       "4    -13.946083                   0.0                         0.0   \n",
       "\n",
       "   multiplicative_terms_upper       yhat  \n",
       "0                         0.0  39.673336  \n",
       "1                         0.0  41.626246  \n",
       "2                         0.0  42.278340  \n",
       "3                         0.0  41.944726  \n",
       "4                         0.0  39.619908  \n",
       "\n",
       "[5 rows x 22 columns]"
      ]
     },
     "execution_count": 22,
     "metadata": {},
     "output_type": "execute_result"
    }
   ],
   "source": [
    "future = m.make_future_dataframe(periods=365) #we need to specify the number of days in future\n",
    "prediction = m.predict(future)\n",
    "prediction.head()"
   ]
  },
  {
   "cell_type": "code",
   "execution_count": 18,
   "metadata": {},
   "outputs": [
    {
     "data": {
      "image/png": "[encoded data removed]",
      "text/plain": [
       "<Figure size 720x432 with 1 Axes>"
      ]
     },
     "metadata": {},
     "output_type": "display_data"
    }
   ],
   "source": [
    "figure = m.plot(prediction)\n",
    "plt.title(f\"Prediction of the {ticker} Close Price\")\n",
    "plt.xlabel(\"Date\")\n",
    "plt.ylabel(\"Close Stock Price\")\n",
    "plt.show()\n",
    "figure.savefig(f'../plots/{ticker}_figure.png')"
   ]
  },
  {
   "cell_type": "code",
   "execution_count": null,
   "metadata": {},
   "outputs": [],
   "source": []
  }
 ],
 "metadata": {
  "kernelspec": {
   "display_name": "Python 3",
   "language": "python",
   "name": "python3"
  },
  "language_info": {
   "codemirror_mode": {
    "name": "ipython",
    "version": 3
   },
   "file_extension": ".py",
   "mimetype": "text/x-python",
   "name": "python",
   "nbconvert_exporter": "python",
   "pygments_lexer": "ipython3",
   "version": "3.8.3"
  }
 },
 "nbformat": 4,
 "nbformat_minor": 4
}
